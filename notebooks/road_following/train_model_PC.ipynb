{
 "cells": [
  {
   "cell_type": "markdown",
   "metadata": {
    "tags": []
   },
   "source": [
    "# Road Follower - Train Model\n",
    "\n",
    "In this notebook we will train a neural network to take an input image, and output a set of x, y values corresponding to a target.\n",
    "\n",
    "We will be using PyTorch deep learning framework to train ResNet18 neural network architecture model for road follower application."
   ]
  },
  {
   "cell_type": "code",
   "execution_count": 1,
   "metadata": {},
   "outputs": [],
   "source": [
    "import torch\n",
    "import torch.optim as optim\n",
    "import torch.nn.functional as F\n",
    "import torchvision\n",
    "import torchvision.datasets as datasets\n",
    "import torchvision.models as models\n",
    "import torchvision.transforms as transforms\n",
    "import glob\n",
    "import PIL.Image\n",
    "import os\n",
    "import numpy as np\n",
    "import ipywidgets\n",
    "\n",
    "TRAIN_MODEL = \"resnet18\"  # resnet18, resnet34, resnet50, resnet101, mobilenet_v2, vgg11, mobilenet_v3_large\n",
    "\n",
    "# *** refererence : https://pytorch.org/docs/stable/optim.html#algorithms\n",
    "# use the following learning algorithms for evaluation\n",
    "TRAIN_MATHOD = \"Adam\"  # \"Adam\", \"SGD\", \"ASGD\", \"Adadelta\", \"RAdam\"; the parameters lr=0.01, momentum=0.92  may be needed"
   ]
  },
  {
   "cell_type": "markdown",
   "metadata": {},
   "source": [
    "### Download and extract data\n",
    "\n",
    "Before you start, you should upload the ``road_following_<Date&Time>.zip`` file that you created in the ``data_collection.ipynb`` notebook on the robot. \n",
    "\n",
    "> If you're training on the JetBot you collected data on, you can skip this!\n",
    "\n",
    "You should then extract this dataset by calling the command below:"
   ]
  },
  {
   "cell_type": "code",
   "execution_count": 2,
   "metadata": {},
   "outputs": [],
   "source": [
    "# !unzip -q road_following.zip\n",
    "from zipfile import ZipFile\n",
    "\n",
    "with ZipFile(\"C:\\\\Users\\\\cuter\\\\Desktop\\\\train_cuterbot\\\\dataset_xy_0916_1.zip\", 'r') as zObject:\n",
    "    zObject.extractall(path=\"C:\\\\Users\\\\cuter\\\\Desktop\\\\train_cuterbot\\\\\") "
   ]
  },
  {
   "cell_type": "markdown",
   "metadata": {},
   "source": [
    "You should see a folder named ``dataset_all`` appear in the file browser."
   ]
  },
  {
   "cell_type": "markdown",
   "metadata": {},
   "source": [
    "### Create Dataset Instance\n",
    "\n",
    "Here we create a custom ``torch.utils.data.Dataset`` implementation, which implements the ``__len__`` and ``__getitem__`` functions.  This class\n",
    "is responsible for loading images and parsing the x, y values from the image filenames.  Because we implement the ``torch.utils.data.Dataset`` class,\n",
    "we can use all of the torch data utilities :)\n",
    "\n",
    "We hard coded some transformations (like color jitter) into our dataset.  We made random horizontal flips optional (in case you want to follow a non-symmetric path, like a road\n",
    "where we need to 'stay right').  If it doesn't matter whether your robot follows some convention, you could enable flips to augment the dataset."
   ]
  },
  {
   "cell_type": "code",
   "execution_count": 3,
   "metadata": {},
   "outputs": [],
   "source": [
    "def get_x(path, width):\n",
    "    \"\"\"Gets the x value from the image filename\"\"\"\n",
    "    return (float(int(path.split(\"_\")[1])) - width/2) / (width/2)\n",
    "\n",
    "def get_y(path, height):\n",
    "    \"\"\"Gets the y value from the image filename\"\"\"\n",
    "    return (float(int(path.split(\"_\")[2])) - height/2) / (height/2)\n",
    "\n",
    "class XYDataset(torch.utils.data.Dataset):\n",
    "    \n",
    "    def __init__(self, directory, random_hflips=False):\n",
    "        self.directory = directory\n",
    "        self.random_hflips = random_hflips\n",
    "        self.image_paths = glob.glob(os.path.join(self.directory, '*.jpg'))\n",
    "        self.color_jitter = transforms.ColorJitter(0.3, 0.3, 0.3, 0.3)\n",
    "    \n",
    "    def __len__(self):\n",
    "        return len(self.image_paths)\n",
    "    \n",
    "    def __getitem__(self, idx):\n",
    "        image_path = self.image_paths[idx]\n",
    "        \n",
    "        image = PIL.Image.open(image_path)\n",
    "        width, height = image.size\n",
    "        x = float(get_x(os.path.basename(image_path), width))\n",
    "        y = float(get_y(os.path.basename(image_path), height))\n",
    "      \n",
    "        if float(np.random.rand(1)) > 0.5:\n",
    "            image = transforms.functional.hflip(image)\n",
    "            x = -x\n",
    "        \n",
    "        image = self.color_jitter(image)\n",
    "        image = transforms.functional.resize(image, (224, 224))\n",
    "        image = transforms.functional.to_tensor(image)\n",
    "        image = image.numpy()[::-1].copy()\n",
    "        image = torch.from_numpy(image)\n",
    "        image = transforms.functional.normalize(image, [0.485, 0.456, 0.406], [0.229, 0.224, 0.225])\n",
    "        \n",
    "        return image, torch.tensor([x, y]).float()\n",
    "    \n",
    "dataset = XYDataset('dataset_xy', random_hflips=False)"
   ]
  },
  {
   "cell_type": "markdown",
   "metadata": {},
   "source": [
    "### Split dataset into train and test sets\n",
    "Once we read dataset, we will split data set in train and test sets. In this example we split train and test a 90%-10%. The test set will be used to verify the accuracy of the model we train."
   ]
  },
  {
   "cell_type": "code",
   "execution_count": 4,
   "metadata": {},
   "outputs": [],
   "source": [
    "test_percent = 0.1\n",
    "num_test = int(test_percent * len(dataset))\n",
    "train_dataset, test_dataset = torch.utils.data.random_split(dataset, [len(dataset) - num_test, num_test])"
   ]
  },
  {
   "cell_type": "markdown",
   "metadata": {},
   "source": [
    "### Create data loaders to load data in batches\n",
    "\n",
    "We use ``DataLoader`` class to load data in batches, shuffle data and allow using multi-subprocesses. In this example we use batch size of 64. Batch size will be based on memory available with your GPU and it can impact accuracy of the model."
   ]
  },
  {
   "cell_type": "code",
   "execution_count": 5,
   "metadata": {},
   "outputs": [],
   "source": [
    "train_loader = torch.utils.data.DataLoader(\n",
    "    train_dataset,\n",
    "    batch_size=8,\n",
    "    shuffle=True,\n",
    "    num_workers=0\n",
    ")\n",
    "\n",
    "test_loader = torch.utils.data.DataLoader(\n",
    "    test_dataset,\n",
    "    batch_size=8,\n",
    "    shuffle=True,\n",
    "    num_workers=0\n",
    ")"
   ]
  },
  {
   "cell_type": "markdown",
   "metadata": {},
   "source": [
    "### Define Neural Network Model \n",
    "\n",
    "We use ResNet-18 model available on PyTorch TorchVision. \n",
    "\n",
    "In a process called transfer learning, we can repurpose a pre-trained model (trained on millions of images) for a new task that has possibly much less data available.\n",
    "\n",
    "\n",
    "More details on ResNet-18 and other variants: https://github.com/pytorch/vision/blob/master/torchvision/models/resnet.py\n",
    "\n",
    "More Details on Transfer Learning: https://www.youtube.com/watch?v=yofjFQddwHE "
   ]
  },
  {
   "cell_type": "code",
   "execution_count": 6,
   "metadata": {},
   "outputs": [],
   "source": [
    "# model = models.resnet18(pretrained=True)\n",
    "# model = models.resnet101(pretrained=True)\n",
    "model = getattr(models, TRAIN_MODEL)()"
   ]
  },
  {
   "cell_type": "markdown",
   "metadata": {},
   "source": [
    "ResNet model has fully connect (fc) final layer with 512 as ``in_features`` and we will be training for regression thus ``out_features`` as 1\n",
    "\n",
    "Finally, we transfer our model for execution on the GPU"
   ]
  },
  {
   "cell_type": "code",
   "execution_count": 7,
   "metadata": {},
   "outputs": [
    {
     "name": "stdout",
     "output_type": "stream",
     "text": [
      "torch cuda version :  11.3\n",
      "cuda is available for pytorch:  True\n"
     ]
    }
   ],
   "source": [
    "print(\"torch cuda version : \", torch.version.cuda)\n",
    "print(\"cuda is available for pytorch: \", torch.cuda.is_available())\n",
    "\n",
    "# model.fc = torch.nn.Linear(512, 2)\n",
    "model.fc = torch.nn.Linear(model.fc.in_features, 2)\n",
    "device = torch.device('cuda')\n",
    "model = model.to(device)"
   ]
  },
  {
   "cell_type": "code",
   "execution_count": 8,
   "metadata": {},
   "outputs": [],
   "source": [
    "# %matplotlib inline\n",
    "# from IPython.display import clear_output\n",
    "import matplotlib\n",
    "matplotlib.use(\"TkAgg\")\n",
    "import matplotlib.pyplot as plt\n",
    "import time\n",
    "\n",
    "fig_1, ax_1 = plt.subplots(figsize=(8, 4))\n",
    "font = {'weight': 'normal', 'size': 10}\n",
    "\n",
    "def plot_loss(loss_data, best_loss, no_epoch):\n",
    "    plt.cla()\n",
    "    epochs = range(len(loss_data))\n",
    "    ld_train = [ld[0] for ld in loss_data]\n",
    "    ld_test = [ld[1] for ld in loss_data]\n",
    "    ax_1.semilogy(epochs, ld_train, \"r-\", linewidth=1.0, label=\"Training Loss: {:.4E}\".format(ld_train[-1]))\n",
    "    ax_1.semilogy(epochs, ld_test, 'bs--', linewidth=1.0, label=\"Test Loss: {:.4E}\".format(ld_test[-1]))\n",
    "\n",
    "    ax_1.set_xlim(0, int(epochs[-1]*1.1) + 1)\n",
    "    xlim = epochs[-1] + 2\n",
    "    ax_1.set_xlim(0, xlim)\n",
    "    plt.legend()\n",
    "    plt.title(\"Training convergence plot \\n current best test loss : {:.4f}\".format(best_loss))\n",
    "    plt.xlabel('epoch', fontdict=font)\n",
    "    plt.ylabel('loss', fontdict=font)\n",
    "    \n",
    "    fig_1.canvas.draw()\n",
    "    fig_1.canvas.flush_events()\n",
    "    plt.show(block=False)\n",
    "    if len(loss_data) >= no_epoch:\n",
    "        profile_plot = os.path.join(\"Training_convergence_plot_Model_{:s}_Training_Method_{:s})\".\n",
    "                                    format(TRAIN_MODEL, TRAIN_MATHOD))\n",
    "        fig_1.savefig(profile_plot)\n",
    "    # display(fig_1)\n",
    "\n",
    "def lt_plot(lt_epoch, lt_sample):\n",
    "    # ----- training time statistics in terms of epoch\n",
    "    learning_time_epoch = np.array(lt_epoch)\n",
    "    mean_lt_epoch = np.mean(learning_time_epoch)\n",
    "    max_lt_epoch = np.amax(learning_time_epoch)\n",
    "    min_lt_epoch = np.amax(learning_time_epoch)\n",
    "    print(\"mean learning time per epoch: {:.3f} s, maximum epoch learning time: {:.3f} s, minimum epoch learning time: {:.3f} s\".\n",
    "        format(mean_lt_epoch, max_lt_epoch, min_lt_epoch))\n",
    "\n",
    "    # ----- training time statistics in terms of sample\n",
    "    learning_time_sample = np.array(lt_sample)\n",
    "    mean_lt_sample = np.mean(learning_time_sample)\n",
    "    max_lt_sample = np.amax(learning_time_sample)\n",
    "    min_lt_sample = np.amax(learning_time_sample)\n",
    "    print(\"mean learning time per sample: {:.3f} s, maximum sample learning time: {:.3f} s, minimum sample learning time: {:.3f} s\".\n",
    "        format(mean_lt_sample, max_lt_sample, min_lt_sample))\n",
    "\n",
    "    fig_2, axh = plt.subplots(1, 2, figsize=(10, 4))\n",
    "    fig_2.suptitle(\"Training Time Statistics\")\n",
    "    axh[0].set_ylabel('no. of epoch')\n",
    "    axh[0].set_xlabel('time of training in an epoch , sec.')\n",
    "    axh[0].hist(learning_time_epoch)\n",
    "    axh[1].set_ylabel('no. of sample')\n",
    "    axh[1].set_xlabel('time for training a sample , sec.')\n",
    "    axh[1].hist(learning_time_sample, bins=(0.01 * np.array(list(range(101)))).tolist())\n",
    "    training_time_file = os.path.join(\"Training_time_Model_{:s}_Training_Method_{:s})\".\n",
    "                                      format(TRAIN_MODEL, TRAIN_MATHOD))\n",
    "    fig_2.savefig(training_time_file)\n",
    "    plt.show(block=False)"
   ]
  },
  {
   "cell_type": "markdown",
   "metadata": {},
   "source": [
    "### Train Regression:\n",
    "\n",
    "We train for 70 epochs and save best model if the loss is reduced. "
   ]
  },
  {
   "cell_type": "code",
   "execution_count": null,
   "metadata": {},
   "outputs": [
    {
     "name": "stderr",
     "output_type": "stream",
     "text": [
      "c:\\users\\cuter\\appdata\\local\\programs\\python\\python36\\lib\\site-packages\\torch\\nn\\_reduction.py:42: UserWarning: size_average and reduce args will be deprecated, please use reduction='mean' instead.\n",
      "  warnings.warn(warning.format(ret))\n"
     ]
    }
   ],
   "source": [
    "NUM_EPOCHS = 70\n",
    "# BEST_MODEL_PATH = 'best_steering_model_xy.pth'\n",
    "BEST_MODEL_PATH = os.path.join(\"best_steering_model_xy_\" + TRAIN_MODEL + \".pth\")\n",
    "best_loss = 1e9\n",
    "\n",
    "# optimizer = optim.Adam(model.parameters())\n",
    "optimizer = getattr(optim, TRAIN_MATHOD)(model.parameters(), weight_decay=0)\n",
    "# optimizer = getattr(optim, TRAIN_MATHOD)(model.parameters(), lr=0.01, momentum=0.95)\n",
    "\n",
    "loss_data = []\n",
    "lt_epoch = []  # learning time per epoch\n",
    "lt_sample = []  # learning time per epoch\n",
    "\n",
    "for epoch in range(NUM_EPOCHS):\n",
    "    start_epoch = time.process_time()\n",
    "    \n",
    "    model.train()\n",
    "    train_loss = 0.0\n",
    "    for images, labels in iter(train_loader):\n",
    "        start_sample = time.process_time()\n",
    "        \n",
    "        images = images.to(device)\n",
    "        labels = labels.to(device)\n",
    "        optimizer.zero_grad()\n",
    "        outputs = model(images)\n",
    "        loss = F.mse_loss(outputs, labels, NUM_EPOCHS)\n",
    "        train_loss += float(loss)\n",
    "        loss.backward()\n",
    "        optimizer.step()\n",
    "        \n",
    "        end_sample = time.process_time()\n",
    "        lt_sample.append(end_sample - start_sample)\n",
    "        \n",
    "    train_loss /= len(train_loader)\n",
    "    \n",
    "    model.eval()\n",
    "    test_loss = 0.0\n",
    "    for images, labels in iter(test_loader):\n",
    "        images = images.to(device)\n",
    "        labels = labels.to(device)\n",
    "        outputs = model(images)\n",
    "        loss = F.mse_loss(outputs, labels)\n",
    "        test_loss += float(loss)\n",
    "    test_loss /= len(test_loader)\n",
    "\n",
    "    end_epoch = time.process_time()\n",
    "    lt_epoch.append(end_epoch - start_epoch)\n",
    "   \n",
    "    if test_loss < best_loss:\n",
    "        torch.save(model.state_dict(), BEST_MODEL_PATH)\n",
    "        best_loss = test_loss\n",
    "    \n",
    "    loss_data.append([train_loss, test_loss])\n",
    "    plot_loss(loss_data, best_loss, NUM_EPOCHS)\n",
    "    # print('Training performance of the model at %ith epoch --- training lose: %.4E, test loss: %.4E' \\\n",
    "    #      % (epoch+1, train_loss, test_loss))\n",
    "    # clear_output(wait=True)\n",
    "\n",
    "lt_plot(lt_epoch, lt_sample)\n",
    "\n",
    "print('Training is completed! ')"
   ]
  },
  {
   "cell_type": "markdown",
   "metadata": {},
   "source": [
    "Once the model is trained, it will generate ``best_steering_model_xy.pth`` file which you can use for inferencing in the live demo notebook.\n",
    "\n",
    "If you trained on a different machine other than JetBot, you'll need to upload this to the JetBot to the ``road_following`` example folder."
   ]
  }
 ],
 "metadata": {
  "kernelspec": {
   "display_name": "Python 3",
   "language": "python",
   "name": "python3"
  },
  "language_info": {
   "codemirror_mode": {
    "name": "ipython",
    "version": 3
   },
   "file_extension": ".py",
   "mimetype": "text/x-python",
   "name": "python",
   "nbconvert_exporter": "python",
   "pygments_lexer": "ipython3",
   "version": "3.6.8"
  }
 },
 "nbformat": 4,
 "nbformat_minor": 4
}
