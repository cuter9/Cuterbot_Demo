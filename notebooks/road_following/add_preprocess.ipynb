{
 "cells": [
  {
   "cell_type": "code",
   "execution_count": null,
   "id": "b042f4b1-26c4-4e83-94e4-52d278d6d159",
   "metadata": {},
   "outputs": [],
   "source": [
    "%cd \"../../jetbot/utils\"\n",
    "import torch\n",
    "import torch.optim as optim\n",
    "import torch.nn.functional as F\n",
    "\n",
    "import torchvision.transforms as transforms\n",
    "import glob\n",
    "\n",
    "import os\n",
    "import numpy as np\n",
    "from model_selection import load_tune_pth_model\n",
    "import pandas as pd\n",
    "\n",
    "# The dir_depo parameter can be set as you required: \n",
    "dir_depo = 'D:\\\\AI_Lecture_Demos\\\\Data_Repo\\\\Cuterbot_Repo'\n",
    "processor = 'GPU'\n",
    "DIR_MODEL_REPO = os.path.join(dir_depo, processor, 'model_repo')\n",
    "\n",
    "DIR_RC_MODEL_REPO = os.path.join(DIR_MODEL_REPO, 'road_following')\n",
    "\n",
    "df_file = os.path.join(DIR_MODEL_REPO, 'torch_model_tbl.csv')    \n",
    "if os.path.isfile(df_file):\n",
    "    df = pd.read_csv(df_file, header=None)\n",
    "else:\n",
    "    df = pd.DataFrame()"
   ]
  },
  {
   "cell_type": "code",
   "execution_count": null,
   "id": "11dc50ae-da79-4653-bde9-21d52ebf2bcf",
   "metadata": {},
   "outputs": [],
   "source": [
    "model_list = ['mobilenet_v2', 'mobilenet_v3_large', 'mobilenet_v3_small', 'googlenet', 'inception_v3',\n",
    "              'efficientnet_b0', 'efficientnet_b1', 'efficientnet_b2', 'efficientnet_b3',\n",
    "              'resnet18', 'resnet34', 'resnet50', 'resnet101',\n",
    "              'shufflenet_v2_x2_0', 'shufflenet_v2_x1_5', 'shufflenet_v2_x1_0', 'shufflenet_v2_x0_5',\n",
    "              'mnasnet1_3', 'mnasnet1_0', 'mnasnet0_75', 'mnasnet0_5', \n",
    "              'densenet121', 'densenet161', 'vgg11']\n",
    "model_list_1 = ['mobilenet_v2', 'mobilenet_v3_large', 'mobilenet_v3_small']   \n",
    "\n",
    "for md in model_list:\n",
    "    TRAIN_MODEL = md\n",
    "    BEST_MODEL_NAME = \"best_steering_model_xy_\" + TRAIN_MODEL\n",
    "    BEST_MODEL_PATH = os.path.join(DIR_RC_MODEL_REPO, BEST_MODEL_NAME + \".pth\")\n",
    "    MODEL_PREPROCESS_PATH = os.path.join(DIR_RC_MODEL_REPO, BEST_MODEL_NAME + \"_preprocess.pth\")\n",
    "    \n",
    "    if os.path.isfile(BEST_MODEL_PATH):\n",
    "        model, model_type, preprocess = load_tune_pth_model(pth_model_name=TRAIN_MODEL, pretrained=True)\n",
    "        torch.save(preprocess[1].state_dict(), MODEL_PREPROCESS_PATH)\n",
    "        \n",
    "        model_path = \"./road_following/\" + BEST_MODEL_NAME + \".pth\"\n",
    "        preprocess_path = \"./road_following/\" + BEST_MODEL_NAME + \"_preprocess.pth\"\n",
    "        df = df._append([[\"classifier\", model_type, model_path, preprocess_path]], ignore_index = False)\n",
    "        df = df.drop_duplicates()\n",
    "        print(\"fiinish adding preprocess of model: \", BEST_MODEL_PATH)\n",
    "df.to_csv(df_file, header=False, index=False)"
   ]
  },
  {
   "cell_type": "code",
   "execution_count": null,
   "id": "1956aa2c-dc8d-4aa3-8e64-e8d3c521dece",
   "metadata": {},
   "outputs": [],
   "source": []
  },
  {
   "cell_type": "code",
   "execution_count": null,
   "id": "eb41a252-405e-4ae3-9a3a-0ce0ae07da2b",
   "metadata": {},
   "outputs": [],
   "source": []
  }
 ],
 "metadata": {
  "kernelspec": {
   "display_name": "Python 3 (ipykernel)",
   "language": "python",
   "name": "python3"
  },
  "language_info": {
   "codemirror_mode": {
    "name": "ipython",
    "version": 3
   },
   "file_extension": ".py",
   "mimetype": "text/x-python",
   "name": "python",
   "nbconvert_exporter": "python",
   "pygments_lexer": "ipython3",
   "version": "3.8.10"
  }
 },
 "nbformat": 4,
 "nbformat_minor": 5
}
