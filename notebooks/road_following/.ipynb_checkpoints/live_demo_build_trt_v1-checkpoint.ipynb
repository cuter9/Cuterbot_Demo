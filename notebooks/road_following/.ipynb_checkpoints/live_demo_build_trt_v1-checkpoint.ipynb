{
 "cells": [
  {
   "cell_type": "markdown",
   "metadata": {},
   "source": [
    "# Road Following - Build TensorRT model for live demo"
   ]
  },
  {
   "cell_type": "markdown",
   "metadata": {},
   "source": [
    "In this notebook, we will optimize the model we trained using TensorRT."
   ]
  },
  {
   "cell_type": "markdown",
   "metadata": {},
   "source": [
    "## Load the trained model"
   ]
  },
  {
   "cell_type": "markdown",
   "metadata": {},
   "source": [
    "We will assume that you have already downloaded ``best_steering_model_xy.pth`` to work station as instructed in \"train_model.ipynb\" notebook. Now, you should upload model file to JetBot in to this notebook's directory. Once that's finished there should be a file named ``best_steering_model_xy.pth`` in this notebook's directory."
   ]
  },
  {
   "cell_type": "markdown",
   "metadata": {},
   "source": [
    "> Please make sure the file has uploaded fully before calling the next cell"
   ]
  },
  {
   "cell_type": "markdown",
   "metadata": {},
   "source": [
    "Execute the code below to initialize the PyTorch model. This should look very familiar from the training notebook."
   ]
  },
  {
   "cell_type": "code",
   "execution_count": null,
   "metadata": {},
   "outputs": [],
   "source": [
    "import torchvision\n",
    "import torch\n",
    "from jetbot.utils import model_selection\n",
    "import os \n",
    "import ipywidgets.widgets as widgets\n",
    "from ipywidgets.widgets import Box, HBox, VBox, Layout, Label\n",
    "import traitlets\n",
    "\n",
    "# The path of trt models is 'MODEL_REPO_DIR_DOCKER' which is set in /jetbot/utils/model_selection.py,\n",
    "# which may be modified if you change the file path of trt models, 'MODEL_REPO_DIR_DOCKER' or dir_model_repo.\n",
    "\n",
    "dir_model_repo = os.environ['MODEL_REPO_DIR_DOCKER']\n",
    "print(dir_model_repo)\n",
    "\n",
    "# pth_ms = model_selection(core_library = \"Pytorch\")  # if 'MODEL_REPO_DIR_DOCKER' is used.\n",
    "pth_ms = model_selection(core_library = \"Pytorch\", dir_model_repo=dir_model_repo)"
   ]
  },
  {
   "cell_type": "code",
   "execution_count": null,
   "metadata": {},
   "outputs": [],
   "source": [
    "pth_ms.model_function = \"classifier\"\n",
    "\n",
    "model_type_widget = widgets.Select(options=pth_ms.model_type_list, value=pth_ms.model_type_list[0],\n",
    "                                      description='Model Type:')\n",
    "traitlets.dlink((pth_ms, 'model_type_list'), (model_type_widget, 'options'))\n",
    "traitlets.dlink((model_type_widget, 'value'), (pth_ms, 'model_type'))\n",
    "\n",
    "model_path_widget = widgets.Select(options=pth_ms.model_path_list, description='Model Path:',\n",
    "                                      layout=Layout(width='65%'))\n",
    "traitlets.dlink((pth_ms, 'model_path_list'), (model_path_widget, 'options'))\n",
    "traitlets.dlink((model_path_widget, 'value'), (pth_ms, 'model_path'))\n",
    "\n",
    "display(HBox([model_type_widget, model_path_widget]))\n"
   ]
  },
  {
   "cell_type": "code",
   "execution_count": null,
   "metadata": {},
   "outputs": [],
   "source": [
    "# load pytorch model with no pretrained parameters\n",
    "from jetbot.utils.model_selection import load_tune_pth_model\n",
    "model_path = model_path_widget.value\n",
    "pth_model_name = model_path_widget.value.split('/')[-1].split('.')[0].split('_', 4)[-1]\n",
    "print(pth_model_name, '\\n', model_path)\n",
    "\n",
    "model, model_type = load_tune_pth_model(pth_model_name=pth_model_name, pretrained=False)\n",
    "model = model.cuda().eval().half()\n"
   ]
  },
  {
   "cell_type": "markdown",
   "metadata": {},
   "source": [
    "Next, load the trained weights from the model_path (e.g.``best_steering_model_xy_<<pth_model_name>>.pth``) file that you uploaded."
   ]
  },
  {
   "cell_type": "code",
   "execution_count": null,
   "metadata": {},
   "outputs": [],
   "source": [
    "model.load_state_dict(torch.load(model_path))"
   ]
  },
  {
   "cell_type": "markdown",
   "metadata": {},
   "source": [
    "Currently, the model weights are located on the CPU memory execute the code below to transfer to the GPU device."
   ]
  },
  {
   "cell_type": "code",
   "execution_count": null,
   "metadata": {},
   "outputs": [],
   "source": [
    "device = torch.device('cuda')"
   ]
  },
  {
   "cell_type": "markdown",
   "metadata": {},
   "source": [
    "## TensorRT"
   ]
  },
  {
   "cell_type": "markdown",
   "metadata": {},
   "source": [
    "> Note: if you are running with docker container, you may not need to do the following installation. \n",
    "\n",
    "> If your setup does not have `torch2trt` installed, you need to first install `torch2trt` by executing the following in the console.\n",
    "```bash\n",
    "cd $HOME\n",
    "git clone https://github.com/NVIDIA-AI-IOT/torch2trt\n",
    "cd torch2trt\n",
    "sudo python3 setup.py install\n",
    "```\n",
    "\n",
    "Convert and optimize the model using torch2trt for faster inference with TensorRT. Please see the [torch2trt](https://github.com/NVIDIA-AI-IOT/torch2trt) readme for more details.\n",
    "\n",
    "> This optimization process can take a couple minutes to complete."
   ]
  },
  {
   "cell_type": "code",
   "execution_count": null,
   "metadata": {},
   "outputs": [],
   "source": [
    "from torch2trt import torch2trt\n",
    "\n",
    "if pth_model_name == 'inception_v3':\n",
    "    data = torch.zeros((1, 3, 299, 299)).cuda().half()   # inception_v3\n",
    "else:\n",
    "    data = torch.zeros((1, 3, 224, 224)).cuda().half()  # resnet\n",
    "\n",
    "model_trt = torch2trt(model, [data], fp16_mode=True)"
   ]
  },
  {
   "cell_type": "markdown",
   "metadata": {},
   "source": [
    "Save the optimized model using the cell below"
   ]
  },
  {
   "cell_type": "code",
   "execution_count": null,
   "metadata": {},
   "outputs": [],
   "source": [
    "import pandas as pd\n",
    "\n",
    "path_trt_model = os.path.join(dir_model_repo, 'road_following', \"best_steering_model_xy_trt_\"+pth_model_name+'.pth')\n",
    "torch.save(model_trt.state_dict(), path_trt_model)\n",
    "\n",
    "df_file = os.path.join(dir_model_repo, 'trt_model_tbl.csv')\n",
    "if os.path.isfile(df_file):\n",
    "    df = pd.read_csv(df_file, header=None)\n",
    "else:\n",
    "    df = pd.DataFrame()\n",
    "\n",
    "trt_model_path_tbl = os.path.join('.', 'road_following', \"best_steering_model_xy_trt_\"+pth_model_name+'.pth')\n",
    "df = df.append([[\"classifier\", model_type, trt_model_path_tbl]], ignore_index = False)\n",
    "df = df.drop_duplicates()\n",
    "df.to_csv(df_file, header=False, index=False)\n"
   ]
  },
  {
   "cell_type": "markdown",
   "metadata": {},
   "source": [
    "## Next\n",
    "Open live_demo_trt.ipynb to move JetBot with the TensorRT optimized model."
   ]
  }
 ],
 "metadata": {
  "kernelspec": {
   "display_name": "Python 3",
   "language": "python",
   "name": "python3"
  },
  "language_info": {
   "codemirror_mode": {
    "name": "ipython",
    "version": 3
   },
   "file_extension": ".py",
   "mimetype": "text/x-python",
   "name": "python",
   "nbconvert_exporter": "python",
   "pygments_lexer": "ipython3",
   "version": "3.6.9"
  }
 },
 "nbformat": 4,
 "nbformat_minor": 4
}
