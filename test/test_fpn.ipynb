{
 "cells": [
  {
   "cell_type": "code",
   "execution_count": 1,
   "id": "f988b621-6090-4313-ae5b-a73345573276",
   "metadata": {},
   "outputs": [],
   "source": [
    "from IPython.display import display\n",
    "import ipywidgets.widgets as widgets\n",
    "from ipywidgets.widgets import Box, HBox, VBox, Layout, Label\n",
    "import wget\n",
    "from PIL import Image, ImageDraw, ImageColor\n",
    "import cv2\n",
    "from jetbot import bgr8_to_jpeg\n",
    "import os"
   ]
  },
  {
   "cell_type": "code",
   "execution_count": 2,
   "id": "552c82ee-9191-456e-aa57-1c59a6f3fe2e",
   "metadata": {},
   "outputs": [
    {
     "name": "stdout",
     "output_type": "stream",
     "text": [
      "engine is built from onnx model\n",
      "320 320\n"
     ]
    }
   ],
   "source": [
    "from jetbot import ObjectDetector\n",
    "follower_model='ssd_mobilenet_v2_fpnlite_320x320_coco17.engine'\n",
    "# follower_model = 'ssd_mobilenet_v2_coco_onnx.engine'\n",
    "\n",
    "detector = ObjectDetector(follower_model, 'SSD_FPN')\n",
    "[height, width] = detector.input_shape\n",
    "print(\"model input size - width, height\", width, height)"
   ]
  },
  {
   "cell_type": "code",
   "execution_count": 3,
   "id": "3dcd02e6-314c-459d-940e-8c17b52cc55f",
   "metadata": {},
   "outputs": [
    {
     "name": "stdout",
     "output_type": "stream",
     "text": [
      "640 383\n"
     ]
    }
   ],
   "source": [
    "if not os.path.exists(\"test.jpg\"):\n",
    "    wget.download(\"http://images.cocodataset.org/val2017/000000088462.jpg\", out=\"test.jpg\")\n",
    "    # wget.download(\"http://farm9.staticflickr.com/8048/8082815883_bf99431b2b_z.jpg\", out=\"test_1.jpg\")\n",
    "# img = Image.open(test_img)\n",
    "img_handle = cv2.imread(\"test.jpg\")\n",
    "img_height, img_width, _ = img_handle.shape\n",
    "print(img_width, img_height)"
   ]
  },
  {
   "cell_type": "code",
   "execution_count": 4,
   "id": "f200da00-01a4-430a-8d98-118377ee6451",
   "metadata": {},
   "outputs": [],
   "source": [
    "detections = detector.execute(img_handle)\n"
   ]
  },
  {
   "cell_type": "code",
   "execution_count": 5,
   "id": "795199aa-587a-4790-a096-59d1dd7accf7",
   "metadata": {},
   "outputs": [],
   "source": [
    "image_widget = widgets.Image(format='jpeg', width=img_width, height=img_height, layout = Layout(align_self='center'))"
   ]
  },
  {
   "cell_type": "code",
   "execution_count": 6,
   "id": "c17f0ab3-c18d-49fc-aadb-da7cdad9d61b",
   "metadata": {},
   "outputs": [
    {
     "data": {
      "application/vnd.jupyter.widget-view+json": {
       "model_id": "4df893ec681340ab91a871c5dd0c5d40",
       "version_major": 2,
       "version_minor": 0
      },
      "text/plain": [
       "Image(value=b'\\xff\\xd8\\xff\\xe0\\x00\\x10JFIF\\x00\\x01\\x01\\x00\\x00\\x01\\x00\\x01\\x00\\x00\\xff\\xdb\\x00C\\x00\\x02\\x01\\x0…"
      ]
     },
     "metadata": {},
     "output_type": "display_data"
    }
   ],
   "source": [
    "for det in detections[0]:\n",
    "    bbox = det['bbox']\n",
    "    cv2.rectangle(img_handle, (int(img_width * bbox[0]), int(img_height * bbox[1])),\n",
    "                  (int(img_width * bbox[2]), int(img_height * bbox[3])), (255, 0, 0), 2)\n",
    "image = bgr8_to_jpeg(img_handle)\n",
    "image_widget.value = image\n",
    "display(image_widget)"
   ]
  },
  {
   "cell_type": "code",
   "execution_count": null,
   "id": "ba56a36e-a1cd-4c7f-9ecb-693718ff7ca0",
   "metadata": {},
   "outputs": [],
   "source": []
  }
 ],
 "metadata": {
  "kernelspec": {
   "display_name": "Python 3 (ipykernel)",
   "language": "python",
   "name": "python3"
  },
  "language_info": {
   "codemirror_mode": {
    "name": "ipython",
    "version": 3
   },
   "file_extension": ".py",
   "mimetype": "text/x-python",
   "name": "python",
   "nbconvert_exporter": "python",
   "pygments_lexer": "ipython3",
   "version": "3.8.10"
  }
 },
 "nbformat": 4,
 "nbformat_minor": 5
}
