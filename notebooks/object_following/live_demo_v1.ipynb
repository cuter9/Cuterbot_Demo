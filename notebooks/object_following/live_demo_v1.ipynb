{
 "cells": [
  {
   "cell_type": "markdown",
   "id": "9efeacbd-ea0c-4d9a-8fe3-5a96f4316613",
   "metadata": {
    "tags": []
   },
   "source": [
    "# Object Following - Live Demo\n",
    "\n",
    "In this notebook we'll show how you can follow an object with JetBot!  We'll use a pre-trained neural network\n",
    "that was trained on the [COCO dataset](http://cocodataset.org) to detect 90 different common objects.  These include\n",
    "\n",
    "* Person (index 0)\n",
    "* Cup (index 47)\n",
    "\n",
    "and many others (you can check [this file](https://github.com/tensorflow/models/blob/master/research/object_detection/data/mscoco_complete_label_map.pbtxt) for a full list of class indices).  The model is sourced from the [TensorFlow object detection API](https://github.com/tensorflow/models/tree/master/research/object_detection)\n",
    "which provides utilities for training object detectors for custom tasks also!  Once the model is trained, we optimize it using NVIDIA TensorRT on the Jetson Nano.\n",
    "\n",
    "This makes the network very fast, capable of real-time execution on Jetson Nano!  We won't run through all of the training and optimization steps in this notebook though.\n",
    "\n",
    "Anyways, let's get started.  First, we'll want to import the ``Object_Follower`` class which takes our pre-trained SSD engine or yolo engine."
   ]
  },
  {
   "cell_type": "code",
   "execution_count": null,
   "id": "5f53c9fa-0817-4c33-a2b4-91b10dd1c0b6",
   "metadata": {},
   "outputs": [],
   "source": [
    "from IPython.display import display\n",
    "import ipywidgets.widgets as widgets\n",
    "from IPython.display import clear_output\n",
    "\n",
    "from ipywidgets.widgets import HBox, Layout\n",
    "import traitlets\n"
   ]
  },
  {
   "metadata": {},
   "cell_type": "code",
   "outputs": [],
   "execution_count": null,
   "source": [
    "from jetbot.utils import model_selection as ms\n",
    "\n",
    "trt_ms = ms.trt_model_selection()\n",
    "\n",
    "model_function_widget = widgets.Select(options=trt_ms.model_function_list, value=\"object detection\",\n",
    "                                       description='Model Function:')\n",
    "traitlets.dlink((model_function_widget, 'value'), (trt_ms, 'model_function'))\n",
    "traitlets.dlink((trt_ms, 'model_function_list'), (model_function_widget, 'options'))\n",
    "\n",
    "model_type_widget = widgets.Select(options=trt_ms.model_type_list, value=\"SSD\", description='Model Type:')\n",
    "traitlets.dlink((model_type_widget, 'value'), (trt_ms, 'model_type'))\n",
    "traitlets.dlink((trt_ms, 'model_type_list'), (model_type_widget, 'options'))\n",
    "\n",
    "model_path_widget = widgets.Select(options=trt_ms.model_path_list, description='Model Path:',\n",
    "                                   layout=Layout(width='50%'))\n",
    "traitlets.dlink((model_path_widget, 'value'), (trt_ms, 'model_path'))\n",
    "traitlets.dlink((trt_ms, 'model_path_list'), (model_path_widget, 'options'))\n",
    "\n",
    "display(HBox([model_function_widget, model_type_widget, model_path_widget]))"
   ],
   "id": "5709ce555ac1de28"
  },
  {
   "metadata": {},
   "cell_type": "code",
   "outputs": [],
   "execution_count": null,
   "source": [
    "type_follower_model = trt_ms.model_type\n",
    "follower_model = trt_ms.selected_model_path\n",
    "print('path of object detector model: %s' % follower_model)\n",
    "trt_ms.unobserve_all()\n",
    "trt_ms = None"
   ],
   "id": "9a8bd1ed92b45d94"
  },
  {
   "cell_type": "code",
   "execution_count": null,
   "id": "db409a49-f088-4214-a5fb-6feee7e8ebbd",
   "metadata": {},
   "outputs": [],
   "source": [
    "from jetbot import ObjectFollower\n",
    "\n",
    "avoider_model='../collision_avoidance/best_model.pth'\n",
    "\n",
    "OF = ObjectFollower(follower_model=follower_model, avoider_model=avoider_model, type_follower_model=type_follower_model, conf_th=0.3)"
   ]
  },
  {
   "cell_type": "code",
   "execution_count": null,
   "id": "5fa94be7-f298-48b8-9298-d0fa3fecab3f",
   "metadata": {},
   "outputs": [],
   "source": [
    "out = widgets.Output()\n",
    "\n",
    "# image_widget = widgets.Image(format='jpeg', width=OF.img_width, height=OF.img_height)\n",
    "image_widget = widgets.Image(format='jpeg', width=350, height=350)\n",
    "\n",
    "# display(image_widget)\n",
    "traitlets.dlink((OF, 'cap_image'), (image_widget, 'value'))\n",
    "\n",
    "# display buttons\n",
    "button_layout = widgets.Layout(width='100px', height='40px', align_self='center')\n",
    "stop_button = widgets.Button(description='Stop', button_style='danger', tooltip='Click to stop running', icon='fa-stop', layout=button_layout)\n",
    "start_button = widgets.Button(description='Start', tooltip='Click to start running', layout=button_layout)\n",
    "button_box = widgets.HBox([start_button, stop_button], layout=widgets.Layout(align_self='center'))\n"
   ]
  },
  {
   "cell_type": "code",
   "execution_count": null,
   "id": "b6f72bd0-b6a1-411b-b0a9-d6553586c991",
   "metadata": {},
   "outputs": [],
   "source": [
    "blocked_widget = widgets.FloatSlider(min=0.0, max=1.0, value=0.0, description='blocked')\n",
    "label_widget = widgets.IntText(value=1, description='tracked label')  # target to be tracked\n",
    "label_text_widget = widgets.Text(value='', description='label name')  # target name to be tracked\n",
    "speed_widget = widgets.FloatSlider(value=0.18, min=0.05, max=0.5, step=0.001, description='speed', readout_format='.3f')\n",
    "turn_gain_widget = widgets.FloatSlider(value=0.25, min=0.05, max=0.5, step=0.001, description='turn gain', readout_format='.3f')\n",
    "steering_bias_widget = widgets.FloatSlider(value=0.02, min=-0.1, max=0.1, step=0.001, description='steering bias', readout_format='.3f')\n",
    "\n",
    "traitlets.dlink((OF, 'blocked'), (blocked_widget, 'value'))\n",
    "traitlets.dlink((label_widget, 'value'), (OF, 'label'))\n",
    "traitlets.dlink((OF, 'label_text'), (label_text_widget, 'value'))\n",
    "traitlets.dlink((turn_gain_widget, 'value'), (OF, 'turn_gain'))\n",
    "traitlets.dlink((speed_widget, 'value'), (OF, 'speed'))\n",
    "traitlets.dlink((steering_bias_widget, 'value'), (OF, 'steering_bias'))"
   ]
  },
  {
   "cell_type": "code",
   "execution_count": null,
   "id": "d598ddb8-6d22-4105-a59a-d36496c71c3e",
   "metadata": {},
   "outputs": [],
   "source": [
    "def start(change):\n",
    "    OF.start_run(change)\n",
    "\n",
    "def stop(change):\n",
    "    OF.stop_run(change)\n",
    "    %reset -f"
   ]
  },
  {
   "cell_type": "code",
   "execution_count": null,
   "id": "54ffdec6-9a82-453a-9a02-eab9187c2c1e",
   "metadata": {},
   "outputs": [],
   "source": [
    "display(widgets.VBox([\n",
    "    widgets.HBox([image_widget, blocked_widget]),\n",
    "    widgets.HBox([label_widget, label_text_widget]),\n",
    "    speed_widget,\n",
    "    turn_gain_widget,\n",
    "    steering_bias_widget,\n",
    "    button_box\n",
    "]))\n",
    "\n",
    "start_button.on_click(start)\n",
    "stop_button.on_click(stop)"
   ]
  }
 ],
 "metadata": {
  "kernelspec": {
   "display_name": "Python 3 (ipykernel)",
   "language": "python",
   "name": "python3"
  },
  "language_info": {
   "codemirror_mode": {
    "name": "ipython",
    "version": 3
   },
   "file_extension": ".py",
   "mimetype": "text/x-python",
   "name": "python",
   "nbconvert_exporter": "python",
   "pygments_lexer": "ipython3",
   "version": "3.8.10"
  }
 },
 "nbformat": 4,
 "nbformat_minor": 5
}
