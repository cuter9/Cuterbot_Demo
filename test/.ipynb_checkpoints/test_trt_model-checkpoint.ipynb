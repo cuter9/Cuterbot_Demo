{
 "cells": [
  {
   "cell_type": "code",
   "execution_count": null,
   "id": "71846355-85b1-4700-aa6d-75583a53c932",
   "metadata": {},
   "outputs": [],
   "source": [
    "import torch\n",
    "from torch2trt import TRTModule\n",
    "\n",
    "device = torch.device('cuda')\n",
    "\n",
    "model_trt=TRTModule()\n",
    "model_trt.load_state_dict(torch.load('best_steering_model_xy_trt_resnet18.pth'))"
   ]
  },
  {
   "cell_type": "code",
   "execution_count": null,
   "id": "f61ea65a-7a36-4692-be5e-3a9bc6cf9e2e",
   "metadata": {},
   "outputs": [],
   "source": [
    "from IPython.display import display\n",
    "import ipywidgets\n",
    "import traitlets\n",
    "from jetbot import Camera, bgr8_to_jpeg\n",
    "\n",
    "camera = Camera()\n",
    "image_widget = ipywidgets.Image(width=300, height=500)\n",
    "traitlets.dlink((camera, 'value'), (image_widget, 'value'), transform=bgr8_to_jpeg)\n",
    "display(image_widget)"
   ]
  },
  {
   "cell_type": "code",
   "execution_count": null,
   "id": "4d167c58-51c8-416e-8830-7ddd04ee2b80",
   "metadata": {},
   "outputs": [],
   "source": [
    "import torchvision.transforms as transforms\n",
    "import torch.nn.functional as F\n",
    "# import cv2\n",
    "import PIL.Image\n",
    "import numpy as np\n",
    "\n",
    "mean = torch.Tensor([0.485, 0.456, 0.406]).cuda().half()\n",
    "std = torch.Tensor([0.229, 0.224, 0.225]).cuda().half()\n",
    "\n",
    "def preprocess(image):\n",
    "    image = PIL.Image.fromarray(image)\n",
    "    image = image.resize((224, 224))  \n",
    "    image = transforms.functional.to_tensor(image).to(device).half()\n",
    "    image.sub_(mean[:, None, None]).div_(std[:, None, None])\n",
    "    return image[None, ...]"
   ]
  },
  {
   "cell_type": "code",
   "execution_count": null,
   "id": "1a9798aa-af86-4b91-a745-692f89113a1d",
   "metadata": {},
   "outputs": [],
   "source": [
    "image = camera.value\n",
    "xy = model_trt(preprocess(image)).detach().float().cpu().numpy().flatten()\n",
    "print(xy)"
   ]
  },
  {
   "cell_type": "code",
   "execution_count": null,
   "id": "4dfda7f0-3848-40e3-a509-9ed308b95423",
   "metadata": {},
   "outputs": [],
   "source": [
    "# image = camera.value\n",
    "def execute(change):\n",
    "    image = change['new']\n",
    "    # print(image.size)\n",
    "    xy = model_trt(preprocess(image)).detach().float().cpu().numpy().flatten()\n",
    "    print(xy)"
   ]
  },
  {
   "cell_type": "code",
   "execution_count": null,
   "id": "db5dba74-f2f5-4f65-9022-b2607cc24d6a",
   "metadata": {},
   "outputs": [],
   "source": [
    "execute({'new': camera.value})"
   ]
  },
  {
   "cell_type": "code",
   "execution_count": null,
   "id": "29803d4a-174e-40ae-aef5-affa36841e04",
   "metadata": {},
   "outputs": [],
   "source": [
    "camera.observe(execute, names='value')"
   ]
  },
  {
   "cell_type": "code",
   "execution_count": null,
   "id": "ed9b8e9c-8782-4abc-868e-6cbe8f957a28",
   "metadata": {
    "tags": []
   },
   "outputs": [],
   "source": [
    "camera.stop()"
   ]
  }
 ],
 "metadata": {
  "kernelspec": {
   "display_name": "Python 3 (ipykernel)",
   "language": "python",
   "name": "python3"
  },
  "language_info": {
   "codemirror_mode": {
    "name": "ipython",
    "version": 3
   },
   "file_extension": ".py",
   "mimetype": "text/x-python",
   "name": "python",
   "nbconvert_exporter": "python",
   "pygments_lexer": "ipython3",
   "version": "3.8.10"
  }
 },
 "nbformat": 4,
 "nbformat_minor": 5
}
