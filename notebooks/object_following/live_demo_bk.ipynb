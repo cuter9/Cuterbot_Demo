{
 "cells": [
  {
   "cell_type": "code",
   "execution_count": null,
   "id": "0b9f3655-2179-4e8c-bd13-e676a43e0d3f",
   "metadata": {},
   "outputs": [],
   "source": [
    "from IPython.display import display\n",
    "import ipywidgets.widgets as widgets\n",
    "from IPython.display import clear_output\n",
    "import traitlets\n"
   ]
  },
  {
   "cell_type": "code",
   "execution_count": null,
   "id": "db409a49-f088-4214-a5fb-6feee7e8ebbd",
   "metadata": {},
   "outputs": [],
   "source": [
    "from main_scripts import Object_Follower\n",
    "\n",
    "ssd='ssd_mobilenet_v2_coco_onnx.engine'\n",
    "# 'yolov4_tiny_288.engine', \"yolov4_tiny_416.eigine\"\n",
    "yolo='yolov4_tiny_416.engine'\n",
    "type_model = \"YOLO\"  # \"SSD\", \"YOLO\"\n",
    "\n",
    "avoider_model='../collision_avoidance/best_model.pth'\n",
    "\n",
    "OF = Object_Follower(follower_model='yolov4_tiny_288.engine', avoider_model=avoider_model, type_model=type_model)"
   ]
  },
  {
   "cell_type": "code",
   "execution_count": null,
   "id": "5fa94be7-f298-48b8-9298-d0fa3fecab3f",
   "metadata": {},
   "outputs": [],
   "source": [
    "out = widgets.Output()\n",
    "\n",
    "image_widget = widgets.Image(format='jpeg', width=OF.img_width, height=OF.img_height)\n",
    "# display(image_widget)\n",
    "traitlets.dlink((OF, 'cap_image'), (image_widget, 'value'))\n",
    "\n",
    "# display buttons\n",
    "button_layout = widgets.Layout(width='100px', height='40px', align_self='center')\n",
    "stop_button = widgets.Button(description='Stop', button_style='danger', tooltip='Click to stop running', icon='fa-stop', layout=button_layout)\n",
    "start_button = widgets.Button(description='Start', tooltip='Click to start running', layout=button_layout)\n",
    "button_box = widgets.HBox([start_button, stop_button], layout=widgets.Layout(align_self='center'))\n"
   ]
  },
  {
   "cell_type": "code",
   "execution_count": null,
   "id": "b6f72bd0-b6a1-411b-b0a9-d6553586c991",
   "metadata": {},
   "outputs": [],
   "source": [
    "blocked_widget = widgets.FloatSlider(min=0.0, max=1.0, value=0.0, description='blocked')\n",
    "label_widget = widgets.IntText(value=45, description='tracked label')  # target to be tracked\n",
    "speed_widget = widgets.FloatSlider(value=0.15, min=0.0, max=1.0, step=0.01, description='speed')\n",
    "turn_gain_widget = widgets.FloatSlider(value=0.3, min=0.0, max=2.0, step=0.01, description='turn gain')\n",
    "\n",
    "traitlets.dlink((OF, 'blocked'), (blocked_widget, 'value'))\n",
    "traitlets.dlink((label_widget, 'value'), (OF, 'label'))\n",
    "traitlets.dlink((turn_gain_widget, 'value'), (OF, 'turn_gain'))\n",
    "traitlets.dlink((speed_widget, 'value'), (OF, 'speed'))"
   ]
  },
  {
   "cell_type": "code",
   "execution_count": null,
   "id": "d598ddb8-6d22-4105-a59a-d36496c71c3e",
   "metadata": {},
   "outputs": [],
   "source": [
    "def start(change):\n",
    "    OF.start_run()\n",
    "\n",
    "def stop(change):\n",
    "    OF.stop_run()\n",
    "    %reset -f"
   ]
  },
  {
   "cell_type": "code",
   "execution_count": null,
   "id": "54ffdec6-9a82-453a-9a02-eab9187c2c1e",
   "metadata": {},
   "outputs": [],
   "source": [
    "display(widgets.VBox([\n",
    "    widgets.HBox([image_widget, blocked_widget]),\n",
    "    label_widget,\n",
    "    speed_widget,\n",
    "    turn_gain_widget,\n",
    "    button_box\n",
    "]))\n",
    "\n",
    "start_button.on_click(start)\n",
    "stop_button.on_click(stop)"
   ]
  }
 ],
 "metadata": {
  "kernelspec": {
   "display_name": "Python 3",
   "language": "python",
   "name": "python3"
  },
  "language_info": {
   "codemirror_mode": {
    "name": "ipython",
    "version": 3
   },
   "file_extension": ".py",
   "mimetype": "text/x-python",
   "name": "python",
   "nbconvert_exporter": "python",
   "pygments_lexer": "ipython3",
   "version": "3.6.9"
  }
 },
 "nbformat": 4,
 "nbformat_minor": 5
}
