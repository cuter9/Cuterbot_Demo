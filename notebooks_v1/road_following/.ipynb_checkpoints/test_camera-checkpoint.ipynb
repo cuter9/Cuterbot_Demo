{
 "cells": [
  {
   "cell_type": "code",
   "execution_count": null,
   "id": "08f6e7e3-7f0a-468a-9344-c369124962f6",
   "metadata": {
    "scrolled": true
   },
   "outputs": [],
   "source": [
    "from IPython.display import display\n",
    "import ipywidgets\n",
    "import traitlets\n",
    "from jetbot import RoadCruiser, bgr8_to_jpeg, Camera\n",
    "\n",
    "RC=RoadCruiser()\n",
    "image_widget = ipywidgets.Image(width=300, height=300)\n",
    "# fps_widget = ipywidgets.FloatText(description='Capture rate')\n",
    "\n",
    "traitlets.dlink((RC.camera, 'value'), (image_widget, 'value'), transform=bgr8_to_jpeg)\n",
    "# traitlets.dlink((RC.camera, 'cap_time'), (fps_widget, 'value'))\n",
    "display(image_widget)"
   ]
  },
  {
   "cell_type": "code",
   "execution_count": null,
   "id": "b7e0c1dd-449b-46ee-9f4e-03ae2bc1aaa3",
   "metadata": {},
   "outputs": [],
   "source": [
    "def execute(change):\n",
    "    image = change['new']\n",
    "    print(image.size)"
   ]
  },
  {
   "cell_type": "code",
   "execution_count": null,
   "id": "77bef1ad-b1cf-4c24-880a-81e97e79fe9a",
   "metadata": {},
   "outputs": [],
   "source": [
    "RC.camera.observe(execute, names='value')"
   ]
  },
  {
   "cell_type": "code",
   "execution_count": null,
   "id": "3a7a2ad4-4123-432f-9913-27eb93e24f74",
   "metadata": {
    "tags": []
   },
   "outputs": [],
   "source": [
    "RC.camera.stop()"
   ]
  },
  {
   "cell_type": "code",
   "execution_count": null,
   "id": "5126faf8-59b1-4340-a65a-12bd611709d8",
   "metadata": {},
   "outputs": [],
   "source": []
  }
 ],
 "metadata": {
  "kernelspec": {
   "display_name": "Python 3 (ipykernel)",
   "language": "python",
   "name": "python3"
  },
  "language_info": {
   "codemirror_mode": {
    "name": "ipython",
    "version": 3
   },
   "file_extension": ".py",
   "mimetype": "text/x-python",
   "name": "python",
   "nbconvert_exporter": "python",
   "pygments_lexer": "ipython3",
   "version": "3.8.10"
  }
 },
 "nbformat": 4,
 "nbformat_minor": 5
}
