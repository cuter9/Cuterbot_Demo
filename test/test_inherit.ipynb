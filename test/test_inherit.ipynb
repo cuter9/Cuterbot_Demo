{
 "cells": [
  {
   "cell_type": "code",
   "execution_count": null,
   "id": "86033bed-137d-4b0f-a561-13086abe2450",
   "metadata": {},
   "outputs": [],
   "source": [
    "from jetbot import ObjectFollower, RoadCruiserTRT\n"
   ]
  },
  {
   "cell_type": "code",
   "execution_count": null,
   "id": "2ae44283-0f34-4d2c-afac-68ef8928d3a3",
   "metadata": {},
   "outputs": [],
   "source": [
    "class FleeterTRT_1(RoadCruiserTRT, ObjectFollower):\n",
    "    # ObjectFollower.__init__(self, init_sensor=False)\n",
    "    # RoadCruiserTRT.__init__(self, init_sensor=False)\n",
    "    def __init__(self, init_sensor=False):\n",
    "        # super().__init__()\n",
    "        RoadCruiserTRT.__init__(self, init_sensor_rc=init_sensor)\n",
    "        ObjectFollower.__init__(self, init_sensor_of=init_sensor)\n",
    "        self.a = 1\n"
   ]
  },
  {
   "cell_type": "code",
   "execution_count": null,
   "id": "07c89b59-9f6b-4952-9b9a-7eba2f2aea9f",
   "metadata": {},
   "outputs": [],
   "source": [
    "of = FleeterTRT_1()"
   ]
  },
  {
   "cell_type": "code",
   "execution_count": null,
   "id": "9d7dd37f-8e63-4e07-b9ce-6dd54683b0b6",
   "metadata": {},
   "outputs": [],
   "source": [
    "dir(of)"
   ]
  },
  {
   "cell_type": "code",
   "execution_count": null,
   "id": "dc425488-d21f-4415-ad16-700bff6139c4",
   "metadata": {},
   "outputs": [],
   "source": []
  }
 ],
 "metadata": {
  "kernelspec": {
   "display_name": "Python 3 (ipykernel)",
   "language": "python",
   "name": "python3"
  },
  "language_info": {
   "codemirror_mode": {
    "name": "ipython",
    "version": 3
   },
   "file_extension": ".py",
   "mimetype": "text/x-python",
   "name": "python",
   "nbconvert_exporter": "python",
   "pygments_lexer": "ipython3",
   "version": "3.8.10"
  }
 },
 "nbformat": 4,
 "nbformat_minor": 5
}
