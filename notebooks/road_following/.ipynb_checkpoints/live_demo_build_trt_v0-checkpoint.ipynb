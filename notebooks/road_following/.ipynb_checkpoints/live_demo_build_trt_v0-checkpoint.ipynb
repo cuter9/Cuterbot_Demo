{
 "cells": [
  {
   "cell_type": "markdown",
   "metadata": {},
   "source": [
    "# Road Following - Build TensorRT model for live demo"
   ]
  },
  {
   "cell_type": "markdown",
   "metadata": {},
   "source": [
    "In this notebook, we will optimize the model we trained using TensorRT."
   ]
  },
  {
   "cell_type": "markdown",
   "metadata": {},
   "source": [
    "## Load the trained model"
   ]
  },
  {
   "cell_type": "markdown",
   "metadata": {},
   "source": [
    "We will assume that you have already downloaded ``best_steering_model_xy.pth`` to work station as instructed in \"train_model.ipynb\" notebook. Now, you should upload model file to JetBot in to this notebook's directory. Once that's finished there should be a file named ``best_steering_model_xy.pth`` in this notebook's directory."
   ]
  },
  {
   "cell_type": "markdown",
   "metadata": {},
   "source": [
    "> Please make sure the file has uploaded fully before calling the next cell"
   ]
  },
  {
   "cell_type": "markdown",
   "metadata": {},
   "source": [
    "Execute the code below to initialize the PyTorch model. This should look very familiar from the training notebook."
   ]
  },
  {
   "cell_type": "code",
   "execution_count": null,
   "metadata": {},
   "outputs": [],
   "source": [
    "import torchvision\n",
    "import torch\n",
    "from jetbot.utils import model_selection\n",
    "import os \n",
    "import ipywidgets.widgets as widgets\n",
    "from ipywidgets.widgets import Box, HBox, VBox, Layout, Label\n",
    "import traitlets\n",
    "\n",
    "model_repo_dir = os.environ['MODEL_REPO_DIR_DOCKER']\n",
    "print(model_repo_dir)\n",
    "\n",
    "# pth_ms = model_selection(core_library = \"Pytorch\", model_repo_dir=model_repo_dir)\n",
    "pth_ms = model_selection(core_library = \"Pytorch\")"
   ]
  },
  {
   "cell_type": "code",
   "execution_count": null,
   "metadata": {},
   "outputs": [],
   "source": [
    "pth_ms.model_function = \"classifier\"\n",
    "\n",
    "model_type_widget = widgets.Select(options=pth_ms.model_type_list, value=pth_ms.model_type_list[0],\n",
    "                                      description='Model Type:')\n",
    "traitlets.dlink((pth_ms, 'model_type_list'), (model_type_widget, 'options'))\n",
    "traitlets.dlink((model_type_widget, 'value'), (pth_ms, 'model_type'))\n",
    "# traitlets.dlink((pth_ms, 'model_type'), (RC, 'type_cruiser_model'))\n",
    "\n",
    "model_path_widget = widgets.Select(options=pth_ms.model_path_list, description='Model Path:',\n",
    "                                      layout=Layout(width='60%'))\n",
    "traitlets.dlink((pth_ms, 'model_path_list'), (model_path_widget, 'options'))\n",
    "traitlets.dlink((model_path_widget, 'value'), (pth_ms, 'model_path'))\n",
    "# traitlets.dlink((pth_ms, 'model_path'), (RC, 'cruiser_model'))\n",
    "\n",
    "display(HBox([model_type_widget, model_path_widget]))"
   ]
  },
  {
   "cell_type": "code",
   "execution_count": null,
   "metadata": {},
   "outputs": [],
   "source": [
    "model_path = model_path_widget.value\n",
    "pth_model_name = model_path_widget.value.split('/')[-1].split('.')[0].split('_', 4)[-1]\n",
    "print(pth_model_name, '\\n', model_path)"
   ]
  },
  {
   "cell_type": "code",
   "execution_count": null,
   "metadata": {},
   "outputs": [],
   "source": [
    "import torchvision.models as pth_models\n",
    "model = getattr(pth_models, pth_model_name)()\n",
    "\n",
    "# ----- modify last layer for classification, and the model used in notebook should be modified as well.\n",
    "\n",
    "if pth_model_name == 'mobilenet_v3_large':  # MobileNet\n",
    "    model.classifier[3] = torch.nn.Linear(model.classifier[3].in_features, 2)  # for mobilenet_v3 model. must add the block expansion factor 4\n",
    "\n",
    "elif pth_model_name == 'mobilenet_v2':\n",
    "    model.classifier[1] = torch.nn.Linear(model.classifier[1].in_features, 2)  # for mobilenet_v2 model. must add the block expansion factor 4\n",
    "\n",
    "elif pth_model_name == 'vgg11': # VGGNet\n",
    "    model.classifier[6] = torch.nn.Linear(model.classifier[6].in_features, 2)  # for VGG model. must add the block expansion factor 4\n",
    "\n",
    "elif 'resnet' in pth_model_name: # ResNet\n",
    "    model.fc = torch.nn.Linear(model.fc.in_features, 2)  # for resnet model must add the block expansion factor 4\n",
    "    # model.fc = torch.nn.Linear(512, 2)\n",
    "\n",
    "elif pth_model_name == 'inception_v3':   # Inception_v3\n",
    "    model.fc = torch.nn.Linear(model.fc.in_features, 2)\n",
    "    if model.aux_logits:\n",
    "        model.AuxLogits.fc = torch.nn.Linear(model.AuxLogits.fc.in_features, 2)\n",
    "\n",
    "elif 'efficientnet' in pth_model_name:   # efficientnet\n",
    "    model.classifier[1] = torch.nn.Linear(model.classifier[1].in_features, 2)  # for efficientnet_b1 \n",
    "\n",
    "model = model.cuda().eval().half()"
   ]
  },
  {
   "cell_type": "markdown",
   "metadata": {},
   "source": [
    "Next, load the trained weights from the ``best_steering_model_xy.pth`` file that you uploaded."
   ]
  },
  {
   "cell_type": "code",
   "execution_count": null,
   "metadata": {},
   "outputs": [],
   "source": [
    "model.load_state_dict(torch.load(model_path))\n",
    "# model.load_state_dict(torch.load('best_steering_model_xy_resnet18.pth'))\n",
    "# model.load_state_dict(torch.load('best_steering_model_xy_resnet34.pth'))\n",
    "# model.load_state_dict(torch.load('best_steering_model_xy_mobilenet_v3_large.pth'))\n",
    "# model.load_state_dict(torch.load('best_steering_model_xy_inception_v3.pth'))"
   ]
  },
  {
   "cell_type": "markdown",
   "metadata": {},
   "source": [
    "Currently, the model weights are located on the CPU memory execute the code below to transfer to the GPU device."
   ]
  },
  {
   "cell_type": "code",
   "execution_count": null,
   "metadata": {},
   "outputs": [],
   "source": [
    "device = torch.device('cuda')"
   ]
  },
  {
   "cell_type": "markdown",
   "metadata": {},
   "source": [
    "## TensorRT"
   ]
  },
  {
   "cell_type": "markdown",
   "metadata": {},
   "source": [
    "> If your setup does not have `torch2trt` installed, you need to first install `torch2trt` by executing the following in the console.\n",
    "```bash\n",
    "cd $HOME\n",
    "git clone https://github.com/NVIDIA-AI-IOT/torch2trt\n",
    "cd torch2trt\n",
    "sudo python3 setup.py install\n",
    "```\n",
    "\n",
    "Convert and optimize the model using torch2trt for faster inference with TensorRT. Please see the [torch2trt](https://github.com/NVIDIA-AI-IOT/torch2trt) readme for more details.\n",
    "\n",
    "> This optimization process can take a couple minutes to complete."
   ]
  },
  {
   "cell_type": "code",
   "execution_count": null,
   "metadata": {},
   "outputs": [],
   "source": [
    "from torch2trt import torch2trt\n",
    "\n",
    "if pth_model_name == 'inception_v3':\n",
    "    data = torch.zeros((1, 3, 299, 299)).cuda().half()   # inception_v3\n",
    "else:\n",
    "    data = torch.zeros((1, 3, 224, 224)).cuda().half()  # resnet\n",
    "\n",
    "model_trt = torch2trt(model, [data], fp16_mode=True)"
   ]
  },
  {
   "cell_type": "markdown",
   "metadata": {},
   "source": [
    "Save the optimized model using the cell below"
   ]
  },
  {
   "cell_type": "code",
   "execution_count": null,
   "metadata": {},
   "outputs": [],
   "source": [
    "path_trt_model = os.path.join(model_repo_dir, 'road_following', \"best_steering_model_xy_trt_\"+pth_model_name+'.pth')\n",
    "torch.save(model_trt.state_dict(), path_trt_model)\n",
    "# torch.save(model_trt.state_dict(), 'best_steering_model_xy_trt_resnet18.pth')\n",
    "# torch.save(model_trt.state_dict(), 'best_steering_model_xy_trt_resnet34.pth')\n",
    "# torch.save(model_trt.state_dict(), 'best_steering_model_xy_trt_mobilenet_v3_large.pth')\n",
    "# torch.save(model_trt.state_dict(), 'best_steering_model_xy_trt_inception_v3.pth')"
   ]
  },
  {
   "cell_type": "markdown",
   "metadata": {},
   "source": [
    "## Next\n",
    "Open live_demo_trt.ipynb to move JetBot with the TensorRT optimized model."
   ]
  }
 ],
 "metadata": {
  "kernelspec": {
   "display_name": "Python 3",
   "language": "python",
   "name": "python3"
  },
  "language_info": {
   "codemirror_mode": {
    "name": "ipython",
    "version": 3
   },
   "file_extension": ".py",
   "mimetype": "text/x-python",
   "name": "python",
   "nbconvert_exporter": "python",
   "pygments_lexer": "ipython3",
   "version": "3.6.9"
  }
 },
 "nbformat": 4,
 "nbformat_minor": 4
}
