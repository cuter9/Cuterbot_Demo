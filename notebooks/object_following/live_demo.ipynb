{
 "cells": [
  {
   "cell_type": "markdown",
   "id": "9efeacbd-ea0c-4d9a-8fe3-5a96f4316613",
   "metadata": {
    "tags": []
   },
   "source": [
    "# Object Following - Live Demo\n",
    "\n",
    "In this notebook we'll show how you can follow an object with JetBot!  We'll use a pre-trained neural network\n",
    "that was trained on the [COCO dataset](http://cocodataset.org) to detect 90 different common objects.  These include\n",
    "\n",
    "* Person (index 0)\n",
    "* Cup (index 47)\n",
    "\n",
    "and many others (you can check [this file](https://github.com/tensorflow/models/blob/master/research/object_detection/data/mscoco_complete_label_map.pbtxt) for a full list of class indices).  The model is sourced from the [TensorFlow object detection API](https://github.com/tensorflow/models/tree/master/research/object_detection)\n",
    "which provides utilities for training object detectors for custom tasks also!  Once the model is trained, we optimize it using NVIDIA TensorRT on the Jetson Nano.\n",
    "\n",
    "This makes the network very fast, capable of real-time execution on Jetson Nano!  We won't run through all of the training and optimization steps in this notebook though.\n",
    "\n",
    "Anyways, let's get started.  First, we'll want to import the ``Object_Follower`` class which takes our pre-trained SSD engine or yolo engine."
   ]
  },
  {
   "cell_type": "code",
   "execution_count": null,
   "id": "5f53c9fa-0817-4c33-a2b4-91b10dd1c0b6",
   "metadata": {},
   "outputs": [],
   "source": [
    "from IPython.display import display\n",
    "import ipywidgets.widgets as widgets\n",
    "from IPython.display import clear_output\n",
    "\n",
    "from ipywidgets.widgets import HBox, Layout\n",
    "import traitlets\n"
   ]
  },
  {
   "cell_type": "code",
   "execution_count": null,
   "id": "f68101715a389a64",
   "metadata": {},
   "outputs": [],
   "source": [
    "# %pip install pandas\n",
    "from jetbot.utils import model_selection\n",
    "from jetbot import ObjectFollower"
   ]
  },
  {
   "cell_type": "code",
   "execution_count": null,
   "id": "5709ce555ac1de28",
   "metadata": {},
   "outputs": [],
   "source": [
    "# avoider_model='../collision_avoidance/best_model.pth'\n",
    "OF = ObjectFollower(init_sensor_of=True)\n",
    "OF.conf_th = 0.5\n",
    "\n",
    "trt_ms = model_selection(core_library = \"TensorRT\")\n",
    "trt_ms.model_function = \"object detection\"\n",
    "\n",
    "model_function_widget = widgets.Select(options=trt_ms.model_function_list, value=\"object detection\",\n",
    "                                       description='Model Function:')\n",
    "\n",
    "model_type_widget = widgets.Select(options=trt_ms.model_type_list, value=\"SSD\", description='Model Type:')\n",
    "traitlets.dlink((trt_ms, 'model_type_list'), (model_type_widget, 'options'))\n",
    "traitlets.dlink((model_type_widget, 'value'), (trt_ms, 'model_type'))\n",
    "traitlets.dlink((trt_ms, 'model_type'), (OF, 'type_follower_model'))\n",
    "\n",
    "model_path_widget = widgets.Select(options=trt_ms.model_path_list, description='Model Path:',\n",
    "                                   layout=Layout(width='75%'))\n",
    "traitlets.dlink((trt_ms, 'model_path_list'), (model_path_widget, 'options'))\n",
    "traitlets.dlink((model_path_widget, 'value'), (trt_ms, 'model_path'))\n",
    "traitlets.dlink((trt_ms, 'model_path'), (OF, 'follower_model'))\n"
   ]
  },
  {
   "cell_type": "code",
   "execution_count": null,
   "id": "5fa94be7-f298-48b8-9298-d0fa3fecab3f",
   "metadata": {},
   "outputs": [],
   "source": [
    "out = widgets.Output()\n",
    "\n",
    "# image_widget = widgets.Image(format='jpeg', width=OF.img_width, height=OF.img_height)\n",
    "image_widget = widgets.Image(format='jpeg', width=350, height=350)\n",
    "\n",
    "# display(image_widget)\n",
    "traitlets.dlink((OF, 'cap_image'), (image_widget, 'value'))\n",
    "\n",
    "# display buttons\n",
    "button_layout = widgets.Layout(width='100px', height='40px', align_self='center')\n",
    "stop_button = widgets.Button(description='Stop', tooltip='Click to stop running', icon='stop', layout=button_layout)\n",
    "stop_button.style.button_color='Red'\n",
    "\n",
    "start_button = widgets.Button(description='Start', tooltip='Click to start running', icon='play', layout=button_layout)\n",
    "start_button.style.button_color='lightBlue'\n",
    "button_box = widgets.HBox([start_button, stop_button], layout=widgets.Layout(align_self='center'))\n"
   ]
  },
  {
   "cell_type": "code",
   "execution_count": null,
   "id": "b6f72bd0-b6a1-411b-b0a9-d6553586c991",
   "metadata": {},
   "outputs": [],
   "source": [
    "blocked_widget = widgets.FloatSlider(min=0.0, max=1.0, value=0.0, description='blocked')\n",
    "label_widget = widgets.IntText(value=1, description='tracked label')  # target to be tracked\n",
    "label_text_widget = widgets.Text(value='', description='label name')  # target name to be tracked\n",
    "speed_widget = widgets.FloatSlider(value=0.18, min=0.05, max=0.5, step=0.001, description='speed', readout_format='.3f')\n",
    "speed_gain_widget = widgets.FloatSlider(value=0.18, min=0.05, max=0.5, step=0.001, description='speed gain', readout_format='.3f')\n",
    "turn_gain_widget = widgets.FloatSlider(value=0.25, min=0.05, max=0.5, step=0.001, description='turn gain', readout_format='.3f')\n",
    "steering_bias_widget = widgets.FloatSlider(value=0.02, min=-0.1, max=0.1, step=0.001, description='steering bias', readout_format='.3f')\n",
    "\n",
    "traitlets.dlink((OF, 'blocked'), (blocked_widget, 'value'))\n",
    "traitlets.dlink((label_widget, 'value'), (OF, 'label'))\n",
    "traitlets.dlink((OF, 'label_text'), (label_text_widget, 'value'))\n",
    "traitlets.dlink((OF, 'speed_of'), (speed_widget, 'value'))\n",
    "traitlets.dlink((turn_gain_widget, 'value'), (OF, 'turn_gain_of'))\n",
    "traitlets.dlink((speed_gain_widget, 'value'), (OF, 'speed_gain_of'))\n",
    "traitlets.dlink((steering_bias_widget, 'value'), (OF, 'steering_bias_of'))"
   ]
  },
  {
   "cell_type": "code",
   "execution_count": null,
   "id": "d598ddb8-6d22-4105-a59a-d36496c71c3e",
   "metadata": {},
   "outputs": [],
   "source": [
    "def start(change):\n",
    "    OF.start_of(change)\n",
    "\n",
    "def stop(change):\n",
    "    OF.stop_of(change)\n",
    "    %reset -f"
   ]
  },
  {
   "cell_type": "code",
   "execution_count": null,
   "id": "54ffdec6-9a82-453a-9a02-eab9187c2c1e",
   "metadata": {},
   "outputs": [],
   "source": [
    "display(HBox([model_type_widget, model_path_widget]))\n",
    "\n",
    "display(widgets.VBox([\n",
    "    widgets.HBox([image_widget, blocked_widget]),\n",
    "    widgets.HBox([label_widget, label_text_widget]),\n",
    "    widgets.HBox([speed_gain_widget, speed_widget]),\n",
    "    turn_gain_widget,\n",
    "    steering_bias_widget,\n",
    "    button_box\n",
    "]))\n",
    "\n",
    "start_button.on_click(start)\n",
    "stop_button.on_click(stop)"
   ]
  }
 ],
 "metadata": {
  "kernelspec": {
   "display_name": "Python 3",
   "language": "python",
   "name": "python3"
  },
  "language_info": {
   "codemirror_mode": {
    "name": "ipython",
    "version": 3
   },
   "file_extension": ".py",
   "mimetype": "text/x-python",
   "name": "python",
   "nbconvert_exporter": "python",
   "pygments_lexer": "ipython3",
   "version": "3.6.9"
  }
 },
 "nbformat": 4,
 "nbformat_minor": 5
}
