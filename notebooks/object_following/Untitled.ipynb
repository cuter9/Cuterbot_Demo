{
 "cells": [
  {
   "cell_type": "code",
   "execution_count": null,
   "id": "b7acf2b2-f398-48e0-b04f-f50679d8d1fc",
   "metadata": {},
   "outputs": [],
   "source": [
    "import ipywidgets as widgets\n",
    "out = widgets.Output()\n",
    "def stop_run(b):\n",
    "    a = 100\n",
    "    with out:\n",
    "        print(\"stop\", a)\n",
    "    \n",
    "button_stop = widgets.Button(description='Stop', tooltip='Click to stop running',icon='fa-stop')\n",
    "display(button_stop, out)\n",
    "button_stop.on_click(stop_run)"
   ]
  },
  {
   "cell_type": "code",
   "execution_count": null,
   "id": "27dbab1c-4009-4326-9b30-c28c40ec7f90",
   "metadata": {},
   "outputs": [],
   "source": []
  }
 ],
 "metadata": {
  "kernelspec": {
   "display_name": "Python 3",
   "language": "python",
   "name": "python3"
  },
  "language_info": {
   "codemirror_mode": {
    "name": "ipython",
    "version": 3
   },
   "file_extension": ".py",
   "mimetype": "text/x-python",
   "name": "python",
   "nbconvert_exporter": "python",
   "pygments_lexer": "ipython3",
   "version": "3.6.9"
  }
 },
 "nbformat": 4,
 "nbformat_minor": 5
}
