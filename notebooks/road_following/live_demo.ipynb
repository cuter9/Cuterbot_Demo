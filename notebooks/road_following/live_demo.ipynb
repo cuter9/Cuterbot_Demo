{
 "cells": [
  {
   "cell_type": "markdown",
   "metadata": {},
   "source": [
    "# Road Following - Live demo"
   ]
  },
  {
   "cell_type": "markdown",
   "metadata": {},
   "source": [
    "In this notebook, we will use model we trained to move jetBot smoothly on track. "
   ]
  },
  {
   "cell_type": "markdown",
   "metadata": {},
   "source": [
    "### Load Trained Model"
   ]
  },
  {
   "cell_type": "markdown",
   "metadata": {},
   "source": [
    "We will assume that you have already downloaded ``best_steering_model_xy.pth`` to work station as instructed in \"train_model.ipynb\" notebook. Now, you should upload model file to JetBot in to this notebook's directory. Once that's finished there should be a file named ``best_steering_model_xy.pth`` in this notebook's directory."
   ]
  },
  {
   "cell_type": "markdown",
   "metadata": {},
   "source": [
    "> Please make sure the file has uploaded fully before calling the next cell"
   ]
  },
  {
   "cell_type": "markdown",
   "metadata": {},
   "source": [
    "Execute the code below to initialize the PyTorch model. This should look very familiar from the training notebook."
   ]
  },
  {
   "cell_type": "code",
   "execution_count": null,
   "metadata": {},
   "outputs": [],
   "source": [
    "import torchvision\n",
    "import torch\n",
    "\n",
    "#--- ResNet\n",
    "model = torchvision.models.resnet18(pretrained=False)\n",
    "# model = torchvision.models.resnet34(pretrained=False)\n",
    "# model = torchvision.models.resnet50(pretrained=False)\n",
    "# model.fc = torch.nn.Linear(model.fc.in_features, 2)\n",
    "\n",
    "#--- MobileNet\n",
    "# model = torchvision.models.mobilenet_v3_large(pretrained=False)\n",
    "# model.classifier[3] = torch.nn.Linear(model.classifier[3].in_features, 2)\n",
    "\n",
    "#--- Inception Net\n",
    "# model = torchvision.models.inception_v3(pretrained=False)\n",
    "# model.fc = torch.nn.Linear(model.fc.in_features, 2)\n",
    "# if model.aux_logits:\n",
    "#     model.AuxLogits.fc = torch.nn.Linear(model.AuxLogits.fc.in_features, 2)\n"
   ]
  },
  {
   "cell_type": "markdown",
   "metadata": {},
   "source": [
    "Next, load the trained weights from the ``best_steering_model_xy.pth`` file that you uploaded."
   ]
  },
  {
   "cell_type": "code",
   "execution_count": null,
   "metadata": {},
   "outputs": [],
   "source": [
    "model.load_state_dict(torch.load('best_steering_model_xy_resnet18.pth'))\n",
    "# model.load_state_dict(torch.load('best_steering_model_xy_resnet34.pth'))\n",
    "# model.load_state_dict(torch.load('best_steering_model_xy_resnet50.pth'))\n",
    "\n",
    "# model.load_state_dict(torch.load('best_steering_model_xy_mobilenet_v3_large.pth'))\n",
    "\n",
    "# model.load_state_dict(torch.load('best_steering_model_xy_inception_v3.pth'))"
   ]
  },
  {
   "cell_type": "markdown",
   "metadata": {},
   "source": [
    "Currently, the model weights are located on the CPU memory execute the code below to transfer to the GPU device."
   ]
  },
  {
   "cell_type": "code",
   "execution_count": null,
   "metadata": {},
   "outputs": [],
   "source": [
    "device = torch.device('cuda')\n",
    "model = model.to(device)\n",
    "model = model.eval().half()\n",
    "# model = model.float()\n",
    "# model = model.to(device, dtype=torch.float)\n",
    "# model = model.eval()"
   ]
  },
  {
   "cell_type": "markdown",
   "metadata": {},
   "source": [
    "### Creating the Pre-Processing Function"
   ]
  },
  {
   "cell_type": "markdown",
   "metadata": {},
   "source": [
    "We have now loaded our model, but there's a slight issue. The format that we trained our model doesn't exactly match the format of the camera. To do that, we need to do some preprocessing. This involves the following steps:\n",
    "\n",
    "1. Convert from HWC layout to CHW layout\n",
    "2. Normalize using same parameters as we did during training (our camera provides values in [0, 255] range and training loaded images in [0, 1] range so we need to scale by 255.0\n",
    "3. Transfer the data from CPU memory to GPU memory\n",
    "4. Add a batch dimension"
   ]
  },
  {
   "cell_type": "code",
   "execution_count": null,
   "metadata": {},
   "outputs": [],
   "source": [
    "import torchvision.transforms as transforms\n",
    "import torch.nn.functional as F\n",
    "import cv2\n",
    "import PIL.Image\n",
    "import numpy as np\n",
    "\n",
    "mean = torch.Tensor([0.485, 0.456, 0.406]).cuda().half()\n",
    "std = torch.Tensor([0.229, 0.224, 0.225]).cuda().half()\n",
    "# mean = torch.Tensor([0.485, 0.456, 0.406]).cuda()\n",
    "# std = torch.Tensor([0.229, 0.224, 0.225]).cuda()\n",
    "\n",
    "def preprocess(image):\n",
    "    image = PIL.Image.fromarray(image)\n",
    "    if model._get_name() == 'Inception3':\n",
    "        image = image.resize((299, 299))\n",
    "    else:\n",
    "        image = image.resize((224, 224))\n",
    "    image = transforms.functional.to_tensor(image).to(device).half()\n",
    "    # image = transforms.functional.to_tensor(image).to(device)\n",
    "    image.sub_(mean[:, None, None]).div_(std[:, None, None])\n",
    "    return image[None, ...]"
   ]
  },
  {
   "cell_type": "markdown",
   "metadata": {},
   "source": [
    "Awesome! We've now defined our pre-processing function which can convert images from the camera format to the neural network input format.\n",
    "\n",
    "Now, let's start and display our camera. You should be pretty familiar with this by now. "
   ]
  },
  {
   "cell_type": "code",
   "execution_count": null,
   "metadata": {},
   "outputs": [],
   "source": [
    "from IPython.display import display\n",
    "import ipywidgets\n",
    "import traitlets\n",
    "from jetbot import Camera, bgr8_to_jpeg\n",
    "\n",
    "camera = Camera()\n",
    "\n",
    "image_widget = ipywidgets.Image(width=350, height=350)\n",
    "# fps_widget = ipywidgets.FloatText(description='Capture rate')\n",
    "\n",
    "traitlets.dlink((camera, 'value'), (image_widget, 'value'), transform=bgr8_to_jpeg)\n",
    "# traitlets.dlink((camera, 'cap_time'), (fps_widget, 'value'))\n",
    "                \n",
    "# display(image_widget)\n",
    "# display(fps_widget)"
   ]
  },
  {
   "cell_type": "markdown",
   "metadata": {},
   "source": [
    "We'll also create our robot instance which we'll need to drive the motors."
   ]
  },
  {
   "cell_type": "code",
   "execution_count": null,
   "metadata": {},
   "outputs": [],
   "source": [
    "from jetbot import Robot\n",
    "\n",
    "robot = Robot()"
   ]
  },
  {
   "cell_type": "markdown",
   "metadata": {},
   "source": [
    "Now, we will define sliders to control JetBot\n",
    "> Note: We have initialize the slider values for best known configurations, however these might not work for your dataset, therefore please increase or decrease the sliders according to your setup and environment\n",
    "\n",
    "1. Speed Control (speed_gain_slider): To start your JetBot increase ``speed_gain_slider`` \n",
    "2. Steering Gain Control (steering_gain_slider): If you see JetBot is wobbling, you need to reduce ``steering_gain_slider`` till it is smooth\n",
    "3. Steering Bias control (steering_bias_slider): If you see JetBot is biased towards extreme right or extreme left side of the track, you should control this slider till JetBot start following line or track in the center.  This accounts for motor biases as well as camera offsets\n",
    "\n",
    "> Note: You should play around above mentioned sliders with lower speed to get smooth JetBot road following behavior."
   ]
  },
  {
   "cell_type": "code",
   "execution_count": null,
   "metadata": {},
   "outputs": [],
   "source": [
    "speed_gain_slider = ipywidgets.FloatSlider(min=0, max=1, step=0.001, value=0.20, description='speed gain', readout_format='.3f')\n",
    "steering_gain_slider = ipywidgets.FloatSlider(min=0, max=0.5, step=0.001, value=0.08, description='steering gain', readout_format='.3f')\n",
    "steering_dgain_slider = ipywidgets.FloatSlider(min=0, max=2.0, step=0.001, value=1.5, description='steering kd', readout_format='.3f')\n",
    "steering_bias_slider = ipywidgets.FloatSlider(min=-0.1, max=0.1, step=0.001, value=-0.015, description='steering bias', readout_format='.3f')\n",
    "\n",
    "# VBox_image = ipywidgets.VBox([image_widget, fps_widget], layout=ipywidgets.Layout(align_self='center'))\n",
    "VBox_image = ipywidgets.VBox([image_widget], layout=ipywidgets.Layout(align_self='center'))\n",
    "VBox_control = ipywidgets.VBox([speed_gain_slider, steering_gain_slider, steering_dgain_slider, steering_bias_slider], layout=ipywidgets.Layout(align_self='center'))\n",
    "\n",
    "# display(speed_gain_slider, steering_gain_slider, steering_dgain_slider, steering_bias_slider)\n",
    "display(ipywidgets.HBox([VBox_image, VBox_control]))"
   ]
  },
  {
   "cell_type": "markdown",
   "metadata": {},
   "source": [
    "Next, let's display some sliders that will let us see what JetBot is thinking.  The x and y sliders will display the predicted x, y values.\n",
    "\n",
    "The steering slider will display our estimated steering value.  Please remember, this value isn't the actual angle of the target, but simply a value that is\n",
    "nearly proportional.  When the actual angle is ``0``, this will be zero, and it will increase / decrease with the actual angle.  "
   ]
  },
  {
   "cell_type": "code",
   "execution_count": null,
   "metadata": {},
   "outputs": [],
   "source": [
    "x_slider = ipywidgets.FloatSlider(min=-1.0, max=1.0, description='x')\n",
    "y_slider = ipywidgets.FloatSlider(min=0, max=1.0, orientation='vertical', description='y')\n",
    "steering_slider = ipywidgets.FloatSlider(min=-1.0, max=1.0, description='steering')\n",
    "speed_slider = ipywidgets.FloatSlider(min=0, max=1.0, orientation='vertical', description='speed')\n",
    "\n",
    "display(ipywidgets.HBox([y_slider, speed_slider]))\n",
    "display(x_slider, steering_slider)"
   ]
  },
  {
   "cell_type": "markdown",
   "metadata": {},
   "source": [
    "Next, we'll create a function that will get called whenever the camera's value changes. This function will do the following steps\n",
    "\n",
    "1. Pre-process the camera image\n",
    "2. Execute the neural network\n",
    "3. Compute the approximate steering value\n",
    "4. Control the motors using proportional / derivative control (PD)"
   ]
  },
  {
   "cell_type": "code",
   "execution_count": null,
   "metadata": {},
   "outputs": [],
   "source": [
    "import time\n",
    "angle = 0.0\n",
    "angle_last = 0.0\n",
    "et=[]\n",
    "\n",
    "def execute(change):\n",
    "    # camera.unobserve_all()\n",
    "    start_time = time.process_time()\n",
    "    global angle, angle_last\n",
    "    image = change['new']\n",
    "    xy = model(preprocess(image)).detach().float().cpu().numpy().flatten()\n",
    "    x = xy[0]\n",
    "    # y = (0.5 - xy[1]) / 2.0\n",
    "    y = (1 + xy[1])\n",
    "    \n",
    "    x_slider.value = x\n",
    "    y_slider.value = y\n",
    "    \n",
    "    speed_slider.value = speed_gain_slider.value\n",
    "    \n",
    "    # angle = np.sqrt(xy)*np.arctan2(x, y)\n",
    "    angle_1 = np.arctan2(x, y)\n",
    "    angle = 0.5 * np.pi * np.tanh(0.5*angle_1)\n",
    "    \n",
    "    pid = angle * steering_gain_slider.value + (angle - angle_last) * steering_dgain_slider.value\n",
    "    angle_last = angle\n",
    "    \n",
    "    steering_slider.value = pid + steering_bias_slider.value\n",
    "    \n",
    "    robot.left_motor.value = max(min(speed_slider.value + steering_slider.value, 1.0), 0.0)\n",
    "    robot.right_motor.value = max(min(speed_slider.value - steering_slider.value, 1.0), 0.0)\n",
    "    end_time = time.process_time()\n",
    "    # et.append(end_time - start_time + camera.cap_time)\n",
    "    et.append(end_time - start_time)\n",
    "    # camera.observe(execute, names='value')\n",
    "execute({'new': camera.value})\n",
    "print(camera.value.shape)"
   ]
  },
  {
   "cell_type": "markdown",
   "metadata": {},
   "source": [
    "Cool! We've created our neural network execution function, but now we need to attach it to the camera for processing.\n",
    "\n",
    "We accomplish that with the observe function."
   ]
  },
  {
   "cell_type": "markdown",
   "metadata": {},
   "source": [
    ">WARNING: This code will move the robot!! Please make sure your robot has clearance and it is on Lego or Track you have collected data on. The road follower should work, but the neural network is only as good as the data it's trained on!"
   ]
  },
  {
   "cell_type": "code",
   "execution_count": null,
   "metadata": {},
   "outputs": [],
   "source": [
    "camera.observe(execute, names='value')"
   ]
  },
  {
   "cell_type": "markdown",
   "metadata": {},
   "source": [
    "Awesome! If your robot is plugged in it should now be generating new commands with each new camera frame. \n",
    "\n",
    "You can now place JetBot on  Lego or Track you have collected data on and see whether it can follow track.\n",
    "\n",
    "If you want to stop this behavior, you can unattach this callback by executing the code below."
   ]
  },
  {
   "cell_type": "code",
   "execution_count": null,
   "metadata": {},
   "outputs": [],
   "source": [
    "# import time\n",
    "import numpy as np, matplotlib.pyplot as plt\n",
    "# from IPython.display import clear_output\n",
    "import os\n",
    "\n",
    "out = ipywidgets.Output()\n",
    "button_stop = ipywidgets.Button(description='Stop', tooltip='Click to stop running', icon='fa-circle-stop')\n",
    "display(button_stop, out)\n",
    "\n",
    "def stop_run(b):\n",
    "    camera.unobserve(execute, names='value')\n",
    "    time.sleep(1.0)\n",
    "    robot.stop()\n",
    "    camera.stop()\n",
    "    execute_time = np.array(et[1:])\n",
    "    mean_execute_time = np.mean(execute_time)\n",
    "    max_execute_time = np.amax(execute_time)\n",
    "    min_execute_time = np.amin(execute_time)\n",
    "    \n",
    "    with out:\n",
    "        os.environ[\"DISPLAY\"] = \":10.0\"\n",
    "        print(\"The execution time of road cruise model --- \\nMean excution time: %f \\nMax excution time: %f \\nMin excution time: %f \" \\\n",
    "              % (mean_execute_time, max_execute_time, min_execute_time))\n",
    "        fig, ax = plt.subplots()\n",
    "        n, bins_loc, patches = ax.hist(execute_time, bins=(0.005 * np.array(list(range(101)))).tolist())\n",
    "        ax.set_xlabel('processing time, sec.')\n",
    "        ax.set_ylabel('No. of detection processes')\n",
    "        ax.set_title('Histogram of detection processing time of road cruise model')\n",
    "        props = dict(boxstyle='round', facecolor='wheat')\n",
    "        text_str = \" mean execution time : %.4f sec. \\n max execution time : %.4f sec. \\n min execution time : %.4f sec. \" % (mean_execute_time, max_execute_time, min_execute_time)\n",
    "        ax.text(0.5, 0.85, text_str, transform=ax.transAxes, fontsize=12, verticalalignment='top', bbox=props)\n",
    "\n",
    "        plt.show(block=False)\n",
    "        \n",
    "    # clear_output(wait=True)\n",
    "    %reset -f\n",
    "    \n",
    "button_stop.on_click(stop_run)\n"
   ]
  },
  {
   "cell_type": "markdown",
   "metadata": {},
   "source": [
    "Again, let's close the camera conneciton properly so that we can use the camera in other notebooks."
   ]
  },
  {
   "cell_type": "markdown",
   "metadata": {},
   "source": [
    "### Conclusion\n",
    "That's it for this live demo! Hopefully you had some fun seeing your JetBot moving smoothly on track following the road!!!\n",
    "\n",
    "If your JetBot wasn't following road very well, try to spot where it fails. The beauty is that we can collect more data for these failure scenarios and the JetBot should get even better :)"
   ]
  }
 ],
 "metadata": {
  "kernelspec": {
   "display_name": "Python 3",
   "language": "python",
   "name": "python3"
  },
  "language_info": {
   "codemirror_mode": {
    "name": "ipython",
    "version": 3
   },
   "file_extension": ".py",
   "mimetype": "text/x-python",
   "name": "python",
   "nbconvert_exporter": "python",
   "pygments_lexer": "ipython3",
   "version": "3.6.9"
  }
 },
 "nbformat": 4,
 "nbformat_minor": 4
}
