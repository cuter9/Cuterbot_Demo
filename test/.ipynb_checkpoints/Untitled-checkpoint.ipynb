{
 "cells": [
  {
   "cell_type": "code",
   "execution_count": null,
   "id": "27e74087-f791-47a7-b78d-5278db042bf9",
   "metadata": {},
   "outputs": [],
   "source": [
    "from jetbot.utils import model_selection\n",
    "from jetbot import FleeterTRT\n",
    "import numpy as np\n",
    "\n",
    "ms = model_selection()\n",
    "ms.model_function = 'classifier'\n",
    "# ms.model_function = 'object detection'\n",
    "mf = ms.df[ms.df.model_function == ms.model_function]\n",
    "mt = mf[mf.model_type == 'ResNet']\n",
    "mpl = mt.loc[:, ['model_path']].values\n",
    "# model_path_list = np.squeeze(mpl).tolist()\n",
    "model_path_list = mpl[:, 0]\n",
    "print(mpl, model_path_list)\n",
    "# ms.model_type = 'InceptionNet'\n",
    "# model_type_list = ms.update_model_type_list()\n",
    "# model_path_list = ms.update_model_list()\n",
    "#print(ms.model_function_list, ms.model_type_list)\n",
    "# print(model_path_list)\n"
   ]
  }
 ],
 "metadata": {
  "kernelspec": {
   "display_name": "Python 3",
   "language": "python",
   "name": "python3"
  },
  "language_info": {
   "codemirror_mode": {
    "name": "ipython",
    "version": 3
   },
   "file_extension": ".py",
   "mimetype": "text/x-python",
   "name": "python",
   "nbconvert_exporter": "python",
   "pygments_lexer": "ipython3",
   "version": "3.6.9"
  }
 },
 "nbformat": 4,
 "nbformat_minor": 5
}
